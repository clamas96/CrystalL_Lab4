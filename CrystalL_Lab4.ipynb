{
  "nbformat": 4,
  "nbformat_minor": 0,
  "metadata": {
    "colab": {
      "name": "CrystalL_Lab4.ipynb",
      "provenance": [],
      "collapsed_sections": [],
      "authorship_tag": "ABX9TyP4gCWhC0aN1aLSrF95awCD",
      "include_colab_link": true
    },
    "kernelspec": {
      "name": "python3",
      "display_name": "Python 3"
    },
    "language_info": {
      "name": "python"
    }
  },
  "cells": [
    {
      "cell_type": "markdown",
      "metadata": {
        "id": "view-in-github",
        "colab_type": "text"
      },
      "source": [
        "<a href=\"https://colab.research.google.com/github/clamas96/CrystalL_Lab4/blob/main/CrystalL_Lab4.ipynb\" target=\"_parent\"><img src=\"https://colab.research.google.com/assets/colab-badge.svg\" alt=\"Open In Colab\"/></a>"
      ]
    },
    {
      "cell_type": "code",
      "execution_count": 6,
      "metadata": {
        "colab": {
          "base_uri": "https://localhost:8080/",
          "height": 491
        },
        "id": "EOk9_LBVXhz4",
        "outputId": "ff39ab4f-b04b-492e-f89e-1ad51d857cc7"
      },
      "outputs": [
        {
          "output_type": "stream",
          "name": "stdout",
          "text": [
            "likelihood  0.1  0.2  0.3  0.5\n",
            "impact                        \n",
            "1           NaN  0.2  NaN  NaN\n",
            "2           NaN  NaN  0.6  NaN\n",
            "7           0.7  NaN  NaN  NaN\n",
            "10          NaN  NaN  NaN  5.0\n",
            "likelihood     0.1    0.2   0.3       0.5\n",
            "impact                                   \n",
            "1              NaN  users   NaN       NaN\n",
            "2              NaN    NaN  team       NaN\n",
            "7           budget    NaN   NaN       NaN\n",
            "10             NaN    NaN   NaN  security\n"
          ]
        },
        {
          "output_type": "display_data",
          "data": {
            "image/png": "[encoded data removed]",
            "text/plain": [
              "<Figure size 432x288 with 2 Axes>"
            ]
          },
          "metadata": {
            "needs_background": "light"
          }
        }
      ],
      "source": [
        "import seaborn as sns\n",
        "import pandas as pd\n",
        "import numpy as np\n",
        "\n",
        "# Create a dataframe(data table)\n",
        "df=pd.DataFrame(columns=['risk','likelihood','impact','score'])\n",
        "\n",
        "df['risk']=['users','team','budget','security']\n",
        "\n",
        "df['likelihood']=[0.2,0.3,0.1,0.5]\n",
        "\n",
        "df['score']=df['impact']*df['likelihood']\n",
        "\n",
        "df['impact']=[1,2,7,10]\n",
        "\n",
        "df['score']=df['impact']*df['likelihood']\n",
        "\n",
        "scoresPivot=df.pivot('impact','likelihood','score')\n",
        "print(scoresPivot)\n",
        "\n",
        "labelsPivot=df.pivot('impact','likelihood','risk')\n",
        "print(labelsPivot)\n",
        "\n",
        "# replaces no lables with empty strings\n",
        "labelsPivot.fillna('',inplace=True)\n",
        "\n",
        "# simple heatmap\n",
        "p1=sns.heatmap(scoresPivot, cmap=\"Wistia\", annot=labelsPivot, fmt='')"
      ]
    }
  ]
}